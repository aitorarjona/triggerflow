{
 "cells": [
  {
   "cell_type": "markdown",
   "metadata": {},
   "source": [
    "# Federated learning example using Triggerflow and Cloudbutton\n",
    "\n",
    "In this example, we have leveraged the flexibility of Triggerflow to implement a federated learning workflow using triggers. We use Triggerflow's triggers as a mechanism to accumulate and aggregate partial updates of the model from each client. The system is designed as a cyclic process where training rounds take place and a final aggregation phase updates the model and restarts the cycle. We also use the [Cloudbutton Toolkit](https://github.com/cloudbutton/cloudbutton) for storing a shared state, storing partial results and synchronizing.\n",
    "\n",
    "**See the [client](/client.py) and the [aggregator](aggregator/aggregator.py)**"
   ]
  },
  {
   "cell_type": "code",
   "execution_count": null,
   "metadata": {},
   "outputs": [],
   "source": [
    "from triggerflow.eventsources.redis import RedisEventSource\n",
    "from triggerflow.functions import PythonCallable, python_object\n",
    "from triggerflow import Triggerflow, CloudEvent, DefaultConditions, DefaultActions\n",
    "\n",
    "from cloudbutton.config import default_config\n",
    "from cloudbutton.multiprocessing import Manager\n",
    "from cloudbutton.cloud_proxy import os as cloudfs\n",
    "\n",
    "from client import main as client\n",
    "from concurrent.futures import ThreadPoolExecutor\n",
    "import pickle\n",
    "import subprocess\n",
    "import os\n",
    "import time"
   ]
  },
  {
   "cell_type": "markdown",
   "metadata": {},
   "source": [
    "### Deploy aggregator action\n",
    "Fill `ibm_cf` parameter in `./.cloudbutton_config` file with IBM credentials"
   ]
  },
  {
   "cell_type": "code",
   "execution_count": null,
   "metadata": {
    "tags": []
   },
   "outputs": [],
   "source": [
    "cb_config = default_config()\n",
    "ibm_config = cb_config['ibm_cf']\n",
    "\n",
    "os.chdir('aggregator')\n",
    "aggregator_url = subprocess.check_output(['python3', 'create_action.py',\n",
    "    '--endpoint', ibm_config['endpoint'],\n",
    "    '--namespace', ibm_config['namespace'],\n",
    "    '--api-key', ibm_config['api_key']]).decode()\n",
    "os.chdir('..')"
   ]
  },
  {
   "cell_type": "markdown",
   "metadata": {},
   "source": [
    "As an event source, we use the same Redis server found in Cloudbutton's configuration file because the toolkit already uses it for the manager objects."
   ]
  },
  {
   "cell_type": "code",
   "execution_count": null,
   "metadata": {
    "tags": []
   },
   "outputs": [],
   "source": [
    "# Instantiate Triggerflow client\n",
    "tf_client = Triggerflow()\n",
    "\n",
    "# Create a workspace and add a Redis event source to it\n",
    "redis_source = RedisEventSource(**cb_config['redis'], stream='fedlearn')\n",
    "tf_client.create_workspace(workspace_name='fedlearn', event_source=redis_source)"
   ]
  },
  {
   "cell_type": "code",
   "execution_count": null,
   "metadata": {},
   "outputs": [],
   "source": [
    "# Initialize state/round\n",
    "ROUND_N = 5\n",
    "manager = Manager()\n",
    "manager.start()\n",
    "lock = manager.Lock()\n",
    "model_state = manager.Value()\n",
    "state = {\n",
    "    'task': 'train',\n",
    "    'interval': 5,\n",
    "    'round_table': [0] * ROUND_N,\n",
    "    'current_weights_key': 'model_weights',\n",
    "    'iter_count': 0\n",
    "}\n",
    "model_state.value = state"
   ]
  },
  {
   "cell_type": "markdown",
   "metadata": {},
   "source": [
    "## Aggregation trigger"
   ]
  },
  {
   "cell_type": "code",
   "execution_count": null,
   "metadata": {},
   "outputs": [],
   "source": [
    "# Create the trigger activation event \n",
    "client_act_event = CloudEvent().SetEventType('client_task_result').SetSubject('fedlearn.client')\n",
    "\n",
    "# Create a custom Python callable condition\n",
    "def custom_join(context, event):\n",
    "    context['task_result_keys'].append(event['data']['result_key'])\n",
    "    context['task'] = event['data']['task']\n",
    "\n",
    "    if len(context['task_result_keys']) == context['join']:\n",
    "        context['invoke_kwargs'] = {\n",
    "            'task': context['task'],\n",
    "            'cb_config': context['cb_config'],\n",
    "            'task_result_keys': context['task_result_keys'],\n",
    "            'current_weights_key': context['current_weights_key'],\n",
    "        }\n",
    "        if context['task'] == 'train':\n",
    "            context['invoke_kwargs']['agg_result_key'] = context['current_weights_key']\n",
    "        else:\n",
    "            context['invoke_kwargs']['agg_result_key'] = 'model_score'\n",
    "        context['task_result_keys'] = []\n",
    "        return True\n",
    "    return False\n",
    "\n",
    "# Create a trigger with the custom condition\n",
    "tf_client.add_trigger(\n",
    "    trigger_id='aggregation_trigger',\n",
    "    event=client_act_event,\n",
    "    condition=PythonCallable(custom_join),\n",
    "    action=DefaultActions.IBM_CF_INVOKE,\n",
    "    transient=False,\n",
    "    context={\n",
    "        'url': aggregator_url,\n",
    "        'api_key': ibm_config['api_key'],\n",
    "        'cb_config': cb_config,\n",
    "        'task_result_keys': [],\n",
    "        'current_weights_key': state['current_weights_key'],\n",
    "        'join': ROUND_N,\n",
    "    })\n"
   ]
  },
  {
   "cell_type": "markdown",
   "metadata": {},
   "source": [
    "## Round restart trigger\n"
   ]
  },
  {
   "cell_type": "code",
   "execution_count": null,
   "metadata": {},
   "outputs": [],
   "source": [
    "# Create the trigger activation event \n",
    "aggregator_act_event1 = CloudEvent().SetEventType('aggregation_complete').SetSubject('fedlearn.aggregator')\n",
    "aggregator_act_event2 = CloudEvent().SetEventType('change_task').SetSubject('fedlearn.aggregator')\n",
    "\n",
    "# Create a custom Python callable action\n",
    "def prepare_round(context, event):\n",
    "    if event['type'] == 'change_task':\n",
    "        context['task'] = event['data']['task']\n",
    "    else:\n",
    "        # Reset round\n",
    "        state = context['model_state'].value\n",
    "        state['round_table'] = [0] * ROUND_N\n",
    "        if state['task'] == 'train':\n",
    "            state['iter_count'] += 1\n",
    "        state['task'] = context['task']\n",
    "\n",
    "        context['model_state'].value = state\n",
    "        context['lock'].release()\n",
    "\n",
    "# Create a trigger with the custom action\n",
    "tf_client.add_trigger(\n",
    "    trigger_id='round_restart_trigger',\n",
    "    event=[aggregator_act_event1, aggregator_act_event2],\n",
    "    condition=DefaultConditions.TRUE,\n",
    "    action=PythonCallable(prepare_round),\n",
    "    transient=False,\n",
    "    context={\n",
    "        'lock': python_object(lock),\n",
    "        'model_state': python_object(model_state),\n",
    "        'task': 'train'\n",
    "    })"
   ]
  },
  {
   "cell_type": "markdown",
   "metadata": {},
   "source": [
    "## Client simulation"
   ]
  },
  {
   "cell_type": "code",
   "execution_count": null,
   "metadata": {},
   "outputs": [],
   "source": [
    "# Pre-fetch dataset locally\n",
    "from sklearn.datasets import fetch_20newsgroups_vectorized\n",
    "fetch_20newsgroups_vectorized()\n",
    "\n",
    "# Launch simulated clients\n",
    "NUM_CLIENTS = 10\n",
    "with ThreadPoolExecutor() as executor:\n",
    "    executor.map(lambda x: client(*x), [[lock, model_state]] * NUM_CLIENTS)\n",
    "\n",
    "# Run a test round\n",
    "change_task_event = CloudEvent().SetEventType('change_task').SetSubject('fedlearn.aggregator')\n",
    "change_task_event.SetData({\n",
    "    'task': 'test'\n",
    "})\n",
    "redis_source.publish_cloudevent(change_task_event)\n",
    "\n",
    "with ThreadPoolExecutor() as executor:\n",
    "    executor.map(lambda x: client(*x), [[lock, model_state]] * NUM_CLIENTS)\n",
    "\n",
    "while not cloudfs.path.exists('model_score'):\n",
    "    time.sleep(0.5)\n",
    "with cloudfs.open('model_score', 'rb') as f:\n",
    "    score = pickle.loads(f.read())\n",
    "\n",
    "print('Done!\\n\\n')\n",
    "print('Training iterations:', model_state.value['iter_count'])\n",
    "print('Model score:', score)"
   ]
  },
  {
   "cell_type": "markdown",
   "metadata": {},
   "source": [
    "Note: in this example clients store their results into Redis that serves as a cloud storage backend apart from serving as a cache for the shared state (model_state) and the synchronization utilities (lock). We do this to avoid fiddling with more credentials, since in a common use case we would use a serverless object storage (AWS S3, IBM COS, GCP Storage) where loads of results could be stored and accessed massively. More into how to configure Cloudbutton's storage backends [here](https://github.com/cloudbutton/cloudbutton/tree/master/config)."
   ]
  }
 ],
 "metadata": {
  "language_info": {
   "codemirror_mode": {
    "name": "ipython",
    "version": 3
   },
   "file_extension": ".py",
   "mimetype": "text/x-python",
   "name": "python",
   "nbconvert_exporter": "python",
   "pygments_lexer": "ipython3",
   "version": 3
  },
  "orig_nbformat": 2,
  "kernelspec": {
   "name": "python_defaultSpec_1595585716873",
   "display_name": "Python 3.6.9 64-bit"
  }
 },
 "nbformat": 4,
 "nbformat_minor": 2
}